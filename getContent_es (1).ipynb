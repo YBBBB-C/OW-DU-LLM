{
 "cells": [
  {
   "cell_type": "code",
   "execution_count": 1,
   "id": "e0bda003-10f4-4788-8696-7cc1bf6834df",
   "metadata": {},
   "outputs": [
    {
     "name": "stdout",
     "output_type": "stream",
     "text": [
      "Starting fresh. Total: 5000\n"
     ]
    },
    {
     "name": "stderr",
     "output_type": "stream",
     "text": [
      " 10%|████                                    | 501/5000 [00:55<06:15, 11.98it/s]"
     ]
    },
    {
     "name": "stdout",
     "output_type": "stream",
     "text": [
      "Saved 500 articles to checkpoint_es.csv\n"
     ]
    },
    {
     "name": "stderr",
     "output_type": "stream",
     "text": [
      " 20%|███████▉                                | 999/5000 [01:48<08:36,  7.74it/s]"
     ]
    },
    {
     "name": "stdout",
     "output_type": "stream",
     "text": [
      "Saved 1000 articles to checkpoint_es.csv\n"
     ]
    },
    {
     "name": "stderr",
     "output_type": "stream",
     "text": [
      " 30%|███████████▋                           | 1501/5000 [02:44<08:02,  7.25it/s]"
     ]
    },
    {
     "name": "stdout",
     "output_type": "stream",
     "text": [
      "Saved 1500 articles to checkpoint_es.csv\n"
     ]
    },
    {
     "name": "stderr",
     "output_type": "stream",
     "text": [
      " 40%|███████████████▌                       | 2003/5000 [03:49<07:37,  6.55it/s]"
     ]
    },
    {
     "name": "stdout",
     "output_type": "stream",
     "text": [
      "Saved 2000 articles to checkpoint_es.csv\n"
     ]
    },
    {
     "name": "stderr",
     "output_type": "stream",
     "text": [
      " 50%|███████████████████▌                   | 2501/5000 [04:56<03:51, 10.78it/s]"
     ]
    },
    {
     "name": "stdout",
     "output_type": "stream",
     "text": [
      "Saved 2500 articles to checkpoint_es.csv\n"
     ]
    },
    {
     "name": "stderr",
     "output_type": "stream",
     "text": [
      " 60%|███████████████████████▍               | 3004/5000 [05:59<03:28,  9.59it/s]"
     ]
    },
    {
     "name": "stdout",
     "output_type": "stream",
     "text": [
      "Saved 3000 articles to checkpoint_es.csv\n"
     ]
    },
    {
     "name": "stderr",
     "output_type": "stream",
     "text": [
      " 70%|███████████████████████████▎           | 3501/5000 [07:01<03:31,  7.08it/s]"
     ]
    },
    {
     "name": "stdout",
     "output_type": "stream",
     "text": [
      "Saved 3500 articles to checkpoint_es.csv\n"
     ]
    },
    {
     "name": "stderr",
     "output_type": "stream",
     "text": [
      " 80%|███████████████████████████████▏       | 4003/5000 [08:00<01:37, 10.27it/s]"
     ]
    },
    {
     "name": "stdout",
     "output_type": "stream",
     "text": [
      "Saved 4000 articles to checkpoint_es.csv\n"
     ]
    },
    {
     "name": "stderr",
     "output_type": "stream",
     "text": [
      " 90%|███████████████████████████████████    | 4500/5000 [08:56<01:30,  5.53it/s]"
     ]
    },
    {
     "name": "stdout",
     "output_type": "stream",
     "text": [
      "Saved 4500 articles to checkpoint_es.csv\n"
     ]
    },
    {
     "name": "stderr",
     "output_type": "stream",
     "text": [
      "100%|███████████████████████████████████████| 5000/5000 [10:01<00:00,  8.32it/s]"
     ]
    },
    {
     "name": "stdout",
     "output_type": "stream",
     "text": [
      "Saved 5000 articles to checkpoint_es.csv\n",
      "All done. Saved full data to es5k_with_content.csv\n"
     ]
    },
    {
     "name": "stderr",
     "output_type": "stream",
     "text": [
      "\n"
     ]
    }
   ],
   "source": [
    "import pandas as pd\n",
    "from tqdm import tqdm\n",
    "import time\n",
    "import os\n",
    "from concurrent.futures import ThreadPoolExecutor, as_completed\n",
    "from newspaper import Article\n",
    "import requests\n",
    "from bs4 import BeautifulSoup\n",
    "\n",
    "\n",
    "df = pd.read_csv(\"es5k.csv\")  \n",
    "urls = df[\"url\"].dropna().unique().tolist()\n",
    "\n",
    "checkpoint_file = \"checkpoint_es.csv\"\n",
    "\n",
    "if os.path.exists(checkpoint_file):\n",
    "    done_urls = pd.read_csv(checkpoint_file)[\"url\"].tolist()\n",
    "    urls = [u for u in urls if u not in done_urls]\n",
    "    print(f\"Resuming from checkpoint. Remaining: {len(urls)}\")\n",
    "else:\n",
    "    print(f\"Starting fresh. Total: {len(urls)}\")\n",
    "\n",
    "\n",
    "def fallback_scraper(url):\n",
    "    try:\n",
    "        headers = {'User-Agent': 'Mozilla/5.0'}\n",
    "        res = requests.get(url, headers=headers, timeout=10)\n",
    "        soup = BeautifulSoup(res.text, 'html.parser')\n",
    "\n",
    "        title_tag = soup.find('h1') or soup.find('title')\n",
    "        title = title_tag.get_text(strip=True) if title_tag else \"\"\n",
    "\n",
    "        ps = soup.find_all('p')\n",
    "        content = \"\\n\".join([p.get_text(strip=True) for p in ps if len(p.get_text(strip=True)) > 10])\n",
    "        return title, content\n",
    "    except:\n",
    "        return \"\", \"\"\n",
    "\n",
    "def extract_article_text_and_title(url):\n",
    "    try:\n",
    "        article = Article(url)\n",
    "        article.download()\n",
    "        article.parse()\n",
    "        title = article.title or \"\"\n",
    "        text = article.text or \"\"\n",
    "        \n",
    "        if len(text) < 100:\n",
    "            f_title, f_text = fallback_scraper(url)\n",
    "            title = title if len(title) > 3 else f_title\n",
    "            text = f_text if len(f_text) > 100 else text\n",
    "\n",
    "        return url, title, text\n",
    "    except:\n",
    "        return url, \"\", \"\"\n",
    "\n",
    "# ------------  concurrence\n",
    "results = []\n",
    "batch_size = 500\n",
    "\n",
    "with ThreadPoolExecutor(max_workers=10) as executor:\n",
    "    future_to_url = {executor.submit(extract_article_text_and_title, url): url for url in urls}\n",
    "    for i, future in enumerate(tqdm(as_completed(future_to_url), total=len(urls))):\n",
    "        results.append(future.result())\n",
    "        \n",
    "        if (i + 1) % batch_size == 0 or (i + 1) == len(urls):\n",
    "            df_temp = pd.DataFrame(results, columns=[\"url\", \"title\", \"content\"])\n",
    "            df_temp.to_csv(checkpoint_file, index=False)\n",
    "            print(f\"Saved {len(results)} articles to {checkpoint_file}\")\n",
    "\n",
    "# ------------ final\n",
    "df_final = pd.DataFrame(results, columns=[\"url\", \"title\", \"content\"])\n",
    "df_final.to_csv(\"es5k_with_content.csv\", index=False)\n",
    "print(\"All done. Saved full data to es5k_with_content.csv\")\n"
   ]
  },
  {
   "cell_type": "code",
   "execution_count": 5,
   "id": "68753af4-0c5e-42d4-9ffc-cdadd4d72c1f",
   "metadata": {},
   "outputs": [
    {
     "data": {
      "text/plain": [
       "url        https://eldia.com.do/autoferia-popular-concluy...\n",
       "title      Autoferia Popular concluye con RD$17,000 millo...\n",
       "content    Santo Domingo. – La vigésima novena Autoferia ...\n",
       "Name: 4, dtype: object"
      ]
     },
     "execution_count": 5,
     "metadata": {},
     "output_type": "execute_result"
    }
   ],
   "source": [
    "df = pd.read_csv(\"es5k_with_content.csv\")\n",
    "df.iloc[4]  \n"
   ]
  },
  {
   "cell_type": "code",
   "execution_count": 21,
   "id": "741acfa8-7286-4412-98ce-f381802a1b44",
   "metadata": {},
   "outputs": [
    {
     "data": {
      "text/html": [
       "<div>\n",
       "<style scoped>\n",
       "    .dataframe tbody tr th:only-of-type {\n",
       "        vertical-align: middle;\n",
       "    }\n",
       "\n",
       "    .dataframe tbody tr th {\n",
       "        vertical-align: top;\n",
       "    }\n",
       "\n",
       "    .dataframe thead th {\n",
       "        text-align: right;\n",
       "    }\n",
       "</style>\n",
       "<table border=\"1\" class=\"dataframe\">\n",
       "  <thead>\n",
       "    <tr style=\"text-align: right;\">\n",
       "      <th></th>\n",
       "      <th>url</th>\n",
       "      <th>title</th>\n",
       "      <th>content</th>\n",
       "    </tr>\n",
       "  </thead>\n",
       "  <tbody>\n",
       "    <tr>\n",
       "      <th>0</th>\n",
       "      <td>https://www.apfdigital.com.ar/noticias/2024/12...</td>\n",
       "      <td>El IAPV abordó las nuevas operatorias de vivie...</td>\n",
       "      <td>Las nuevas operatorias de viviendas fueron el ...</td>\n",
       "    </tr>\n",
       "    <tr>\n",
       "      <th>1</th>\n",
       "      <td>https://www.nvinoticias.com/cultura/el-lector-...</td>\n",
       "      <td>El lector furtivo / Boy. Relatos de infancia</td>\n",
       "      <td>Por Rafael Alfonso\\n\\nDespués de una larga est...</td>\n",
       "    </tr>\n",
       "    <tr>\n",
       "      <th>2</th>\n",
       "      <td>https://www.cronicaviva.com.pe/peru-economia-c...</td>\n",
       "      <td>Perú: economía crecería 3.1% en 2024, con défi...</td>\n",
       "      <td>La economía peruana avanzaría 3.1% en 2024, pr...</td>\n",
       "    </tr>\n",
       "    <tr>\n",
       "      <th>3</th>\n",
       "      <td>https://eldia.com.do/persio-maldonado-critica-...</td>\n",
       "      <td>Persio Maldonado critica poderes del Estado se...</td>\n",
       "      <td>Santo Domingo.-El presidente de la Sociedad Do...</td>\n",
       "    </tr>\n",
       "    <tr>\n",
       "      <th>4</th>\n",
       "      <td>https://eldia.com.do/autoferia-popular-concluy...</td>\n",
       "      <td>Autoferia Popular concluye con RD$17,000 millo...</td>\n",
       "      <td>Santo Domingo. – La vigésima novena Autoferia ...</td>\n",
       "    </tr>\n",
       "  </tbody>\n",
       "</table>\n",
       "</div>"
      ],
      "text/plain": [
       "                                                 url  \\\n",
       "0  https://www.apfdigital.com.ar/noticias/2024/12...   \n",
       "1  https://www.nvinoticias.com/cultura/el-lector-...   \n",
       "2  https://www.cronicaviva.com.pe/peru-economia-c...   \n",
       "3  https://eldia.com.do/persio-maldonado-critica-...   \n",
       "4  https://eldia.com.do/autoferia-popular-concluy...   \n",
       "\n",
       "                                               title  \\\n",
       "0  El IAPV abordó las nuevas operatorias de vivie...   \n",
       "1       El lector furtivo / Boy. Relatos de infancia   \n",
       "2  Perú: economía crecería 3.1% en 2024, con défi...   \n",
       "3  Persio Maldonado critica poderes del Estado se...   \n",
       "4  Autoferia Popular concluye con RD$17,000 millo...   \n",
       "\n",
       "                                             content  \n",
       "0  Las nuevas operatorias de viviendas fueron el ...  \n",
       "1  Por Rafael Alfonso\\n\\nDespués de una larga est...  \n",
       "2  La economía peruana avanzaría 3.1% en 2024, pr...  \n",
       "3  Santo Domingo.-El presidente de la Sociedad Do...  \n",
       "4  Santo Domingo. – La vigésima novena Autoferia ...  "
      ]
     },
     "execution_count": 21,
     "metadata": {},
     "output_type": "execute_result"
    }
   ],
   "source": [
    "df = pd.read_csv(\"es5k_with_content.csv\")\n",
    "df.head(5)\n"
   ]
  },
  {
   "cell_type": "code",
   "execution_count": 13,
   "id": "a49aaa87-a2dc-4349-89c3-1632a0e63ce3",
   "metadata": {},
   "outputs": [
    {
     "name": "stdout",
     "output_type": "stream",
     "text": [
      "Cuadro preocupante en disposición de neumáticos\n",
      "Sun and clouds mixed. High 88F. Winds E at 15 to 25 mph..\n",
      "Partly cloudy. Low 77F. Winds ESE at 10 to 15 mph.\n",
      "Actualizado: May 22, 2025 @ 9:20 am\n",
      "El DRNA tampoco tiene cifras actualizadas sobre la importación de los neumáticos y los ingresos que genera. >Suministrada\n",
      "La Oficina del Procurador del Ciudadano (Ombudsman) informó que, tras una investigación, se descubrió un cuadro preocupante sobre el manejo del Departamento de Recursos Naturales y Ambientales (DRNA) en la acumulación de neumáticos desechados, principalmente en el centro de Puerto Rico.\n",
      "El DRNA tampoco tiene cifras actualizadas sobre la importación de los neumáticos y los ingresos que genera, reveló el ombudsman Edwin García Feliciano, quien precisó que el periodo de investigación cubrió de 2022 a junio de 2024 y abarcó visitas y entrevistas en más de 100 instalaciones de venta de neumáticos y empresas responsables del proceso de disposición en todo Puerto Rico.\n",
      "Los hallazgos principales incluyen la falta de un estudio de tarifas, desde 1996, y un marco de tarifas para las empresas de reciclaje y exportación. El informe señala que a las compañías exportadoras de neumáticos, se les paga a razón de 9 centavos por libra. Mientras, a las empresas que realizan todo el proceso, se les paga una cantidad distinta, y aumenta a 13.2 centavos por libra, de tener alternativas adicionales a la exportación. No obstante, no existe una certeza del precio futuro a pagar para realizar proyecciones para una industria agobiada por lo\n"
     ]
    }
   ],
   "source": [
    "print(df.iloc[10]['title'])\n",
    "print(df.iloc[10]['content'][:1500])  # 前500个字符\n"
   ]
  },
  {
   "cell_type": "code",
   "execution_count": 23,
   "id": "e0f39650-9796-431a-9ff1-72538800b27f",
   "metadata": {},
   "outputs": [
    {
     "name": "stdout",
     "output_type": "stream",
     "text": [
      "Total records: 5000\n",
      "Non-empty content: 4005\n",
      "Content length stats:\n",
      "count     4005.000000\n",
      "mean      3464.808989\n",
      "std       3384.769839\n",
      "min         78.000000\n",
      "25%       1842.000000\n",
      "50%       2739.000000\n",
      "75%       4220.000000\n",
      "max      84693.000000\n",
      "Name: content, dtype: float64\n",
      "Remaining after filtering: 3858\n"
     ]
    }
   ],
   "source": [
    "\n",
    "df_es = pd.read_csv(\"es5k_with_content.csv\")\n",
    "df_es.head()\n",
    "# non-null\n",
    "print(\"Total records:\", len(df_es))\n",
    "print(\"Non-empty content:\", df_es['content'].notna().sum())\n",
    "print(\"Content length stats:\")\n",
    "print(df_es['content'].str.len().describe())\n",
    "\n",
    "# filter out content less than 300 char，including null\n",
    "df_clean_es = df_es[df_es['content'].str.len() > 300]\n",
    "print(\"Remaining after filtering:\", len(df_clean_es))\n"
   ]
  }
 ],
 "metadata": {
  "kernelspec": {
   "display_name": "Python [conda env:base] *",
   "language": "python",
   "name": "conda-base-py"
  },
  "language_info": {
   "codemirror_mode": {
    "name": "ipython",
    "version": 3
   },
   "file_extension": ".py",
   "mimetype": "text/x-python",
   "name": "python",
   "nbconvert_exporter": "python",
   "pygments_lexer": "ipython3",
   "version": "3.12.7"
  }
 },
 "nbformat": 4,
 "nbformat_minor": 5
}
